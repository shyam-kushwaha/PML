{
 "cells": [
  {
   "cell_type": "markdown",
   "id": "3e3dc558",
   "metadata": {},
   "source": [
    "# CP 218 Worksheet2: Probability Theory"
   ]
  },
  {
   "cell_type": "markdown",
   "id": "a0354634",
   "metadata": {},
   "source": [
    "Firstly we will import the relevant libraries (numpy, pandas, matplotlib, etc), ensuring our plots appear inline rather than in separate windows."
   ]
  },
  {
   "cell_type": "code",
   "execution_count": 1,
   "id": "07c511f4",
   "metadata": {},
   "outputs": [],
   "source": [
    "import numpy as np\n",
    "import pandas as pd\n",
    "import matplotlib.pyplot as plt\n",
    "import seaborn as sns\n",
    "import sys\n",
    "%matplotlib inline\n"
   ]
  },
  {
   "cell_type": "markdown",
   "id": "b9e0b4bd",
   "metadata": {},
   "source": [
    "."
   ]
  },
  {
   "cell_type": "code",
   "execution_count": 2,
   "id": "4f37e2e2",
   "metadata": {},
   "outputs": [
    {
     "data": {
      "text/plain": [
       "'/Users/shyam/git_projects/PML'"
      ]
     },
     "execution_count": 2,
     "metadata": {},
     "output_type": "execute_result"
    }
   ],
   "source": [
    "import os\n",
    "cwd = os.getcwd()\n",
    "cwd"
   ]
  },
  {
   "cell_type": "markdown",
   "id": "b28eda52",
   "metadata": {},
   "source": [
    "## Probability Theory\n"
   ]
  },
  {
   "cell_type": "markdown",
   "id": "d4365373",
   "metadata": {},
   "source": [
    "### Practice Questions\n",
    "\n",
    "1. A real estate data suggests that 57% of houses in a city have garden, 52% have garage, and 14% have both. What is the probability that a house in that city\n",
    "\n",
    "       a) a garage or a garden?  \n",
    "\n",
    "       b) neither a garage nor a garden? \n",
    "\n",
    "       c) a garage but no garden?  \n"
   ]
  },
  {
   "cell_type": "markdown",
   "id": "06aeb512",
   "metadata": {},
   "source": [
    "2.  The probabilities that an adult man has high blood pressure and/or high cholesterol are shown in the table.\n",
    " \n",
    " \n",
    "                         Cholesterol   \n",
    "\n",
    "                           High        OK\n",
    "                   High    0.11       0.16\n",
    "     Blood \n",
    "     Pressure\n",
    "                   OK      0.21       0.52\n",
    "\n",
    "\n",
    "   What's the probability that\n",
    "\n",
    "     a) a man has high blood pressure? \n",
    "\n",
    "     b) a man with high blood pressure has high cholesterol?  \n",
    "\n",
    "     c) a man has high blood pressure if it's known that he has high cholesterol?\n",
    "     "
   ]
  },
  {
   "cell_type": "markdown",
   "id": "6f9c5be6",
   "metadata": {},
   "source": [
    "### Programming \n",
    "We will take a computational approach to understand probability and some of its law. The data will be used from General Social survey to compute several propobability propositions such as:\n",
    "\n",
    "* What is the probability for a particular proposition to be true/false? \n",
    "* Conjunction: What is the probability that two propositions are both true. \n",
    "* Conditional probability, What is the probability that one proposition is true, given that another is true."
   ]
  },
  {
   "cell_type": "code",
   "execution_count": 3,
   "id": "8f8d60e9",
   "metadata": {},
   "outputs": [],
   "source": [
    "#load the data\n",
    "gss = pd.read_csv('gss_survey_data.csv', index_col=0)"
   ]
  },
  {
   "cell_type": "code",
   "execution_count": 4,
   "id": "d2f99a44",
   "metadata": {},
   "outputs": [
    {
     "data": {
      "text/plain": [
       "(49290, 6)"
      ]
     },
     "execution_count": 4,
     "metadata": {},
     "output_type": "execute_result"
    }
   ],
   "source": [
    "gss.shape"
   ]
  },
  {
   "cell_type": "code",
   "execution_count": 4,
   "id": "55f0a3b3",
   "metadata": {},
   "outputs": [
    {
     "data": {
      "text/html": [
       "<div>\n",
       "<style scoped>\n",
       "    .dataframe tbody tr th:only-of-type {\n",
       "        vertical-align: middle;\n",
       "    }\n",
       "\n",
       "    .dataframe tbody tr th {\n",
       "        vertical-align: top;\n",
       "    }\n",
       "\n",
       "    .dataframe thead th {\n",
       "        text-align: right;\n",
       "    }\n",
       "</style>\n",
       "<table border=\"1\" class=\"dataframe\">\n",
       "  <thead>\n",
       "    <tr style=\"text-align: right;\">\n",
       "      <th></th>\n",
       "      <th>year</th>\n",
       "      <th>age</th>\n",
       "      <th>sex</th>\n",
       "      <th>polviews</th>\n",
       "      <th>partyid</th>\n",
       "      <th>indus10</th>\n",
       "    </tr>\n",
       "    <tr>\n",
       "      <th>caseid</th>\n",
       "      <th></th>\n",
       "      <th></th>\n",
       "      <th></th>\n",
       "      <th></th>\n",
       "      <th></th>\n",
       "      <th></th>\n",
       "    </tr>\n",
       "  </thead>\n",
       "  <tbody>\n",
       "    <tr>\n",
       "      <th>1</th>\n",
       "      <td>1974</td>\n",
       "      <td>21.0</td>\n",
       "      <td>1</td>\n",
       "      <td>4.0</td>\n",
       "      <td>2.0</td>\n",
       "      <td>4970.0</td>\n",
       "    </tr>\n",
       "    <tr>\n",
       "      <th>2</th>\n",
       "      <td>1974</td>\n",
       "      <td>41.0</td>\n",
       "      <td>1</td>\n",
       "      <td>5.0</td>\n",
       "      <td>0.0</td>\n",
       "      <td>9160.0</td>\n",
       "    </tr>\n",
       "    <tr>\n",
       "      <th>5</th>\n",
       "      <td>1974</td>\n",
       "      <td>58.0</td>\n",
       "      <td>2</td>\n",
       "      <td>6.0</td>\n",
       "      <td>1.0</td>\n",
       "      <td>2670.0</td>\n",
       "    </tr>\n",
       "    <tr>\n",
       "      <th>6</th>\n",
       "      <td>1974</td>\n",
       "      <td>30.0</td>\n",
       "      <td>1</td>\n",
       "      <td>5.0</td>\n",
       "      <td>4.0</td>\n",
       "      <td>6870.0</td>\n",
       "    </tr>\n",
       "    <tr>\n",
       "      <th>7</th>\n",
       "      <td>1974</td>\n",
       "      <td>48.0</td>\n",
       "      <td>1</td>\n",
       "      <td>5.0</td>\n",
       "      <td>4.0</td>\n",
       "      <td>7860.0</td>\n",
       "    </tr>\n",
       "  </tbody>\n",
       "</table>\n",
       "</div>"
      ],
      "text/plain": [
       "        year   age  sex  polviews  partyid  indus10\n",
       "caseid                                             \n",
       "1       1974  21.0    1       4.0      2.0   4970.0\n",
       "2       1974  41.0    1       5.0      0.0   9160.0\n",
       "5       1974  58.0    2       6.0      1.0   2670.0\n",
       "6       1974  30.0    1       5.0      4.0   6870.0\n",
       "7       1974  48.0    1       5.0      4.0   7860.0"
      ]
     },
     "execution_count": 4,
     "metadata": {},
     "output_type": "execute_result"
    }
   ],
   "source": [
    "gss.head()"
   ]
  },
  {
   "cell_type": "code",
   "execution_count": null,
   "id": "3687be27",
   "metadata": {},
   "outputs": [],
   "source": [
    "gss.columns"
   ]
  },
  {
   "cell_type": "markdown",
   "id": "f1e2de88",
   "metadata": {},
   "source": [
    "The columns are\n",
    "\n",
    "* `caseid`: Respondent id (which is the index of the table).\n",
    "\n",
    "* `year`: Year when the respondent was surveyed.\n",
    "\n",
    "* `age`: Respondent's age when surveyed.\n",
    "\n",
    "* `sex`: Male or female.\n",
    "\n",
    "* `polviews`: Political views on a range from liberal to conservative.\n",
    "\n",
    "* `partyid`: Political party affiliation, Democrat, Independent, or Republican.\n",
    "\n",
    "* `indus10`: [Code](https://www.census.gov/naics/) for the industry the respondent works in.\n",
    "\n",
    "Let's look at these variables in more detail, starting with `indus10`."
   ]
  },
  {
   "cell_type": "code",
   "execution_count": 5,
   "id": "10ae29bf",
   "metadata": {},
   "outputs": [
    {
     "data": {
      "text/html": [
       "<div>\n",
       "<style scoped>\n",
       "    .dataframe tbody tr th:only-of-type {\n",
       "        vertical-align: middle;\n",
       "    }\n",
       "\n",
       "    .dataframe tbody tr th {\n",
       "        vertical-align: top;\n",
       "    }\n",
       "\n",
       "    .dataframe thead th {\n",
       "        text-align: right;\n",
       "    }\n",
       "</style>\n",
       "<table border=\"1\" class=\"dataframe\">\n",
       "  <thead>\n",
       "    <tr style=\"text-align: right;\">\n",
       "      <th></th>\n",
       "      <th>year</th>\n",
       "      <th>age</th>\n",
       "      <th>sex</th>\n",
       "      <th>polviews</th>\n",
       "      <th>partyid</th>\n",
       "      <th>indus10</th>\n",
       "    </tr>\n",
       "  </thead>\n",
       "  <tbody>\n",
       "    <tr>\n",
       "      <th>count</th>\n",
       "      <td>49290.000000</td>\n",
       "      <td>49290.000000</td>\n",
       "      <td>49290.000000</td>\n",
       "      <td>49290.000000</td>\n",
       "      <td>49290.000000</td>\n",
       "      <td>49290.000000</td>\n",
       "    </tr>\n",
       "    <tr>\n",
       "      <th>mean</th>\n",
       "      <td>1995.364050</td>\n",
       "      <td>46.143132</td>\n",
       "      <td>1.537858</td>\n",
       "      <td>4.105052</td>\n",
       "      <td>2.753905</td>\n",
       "      <td>5993.666504</td>\n",
       "    </tr>\n",
       "    <tr>\n",
       "      <th>std</th>\n",
       "      <td>12.336592</td>\n",
       "      <td>17.111420</td>\n",
       "      <td>0.498570</td>\n",
       "      <td>1.377160</td>\n",
       "      <td>2.048108</td>\n",
       "      <td>2796.295069</td>\n",
       "    </tr>\n",
       "    <tr>\n",
       "      <th>min</th>\n",
       "      <td>1974.000000</td>\n",
       "      <td>18.000000</td>\n",
       "      <td>1.000000</td>\n",
       "      <td>1.000000</td>\n",
       "      <td>0.000000</td>\n",
       "      <td>170.000000</td>\n",
       "    </tr>\n",
       "    <tr>\n",
       "      <th>25%</th>\n",
       "      <td>1985.000000</td>\n",
       "      <td>32.000000</td>\n",
       "      <td>1.000000</td>\n",
       "      <td>3.000000</td>\n",
       "      <td>1.000000</td>\n",
       "      <td>3890.000000</td>\n",
       "    </tr>\n",
       "    <tr>\n",
       "      <th>50%</th>\n",
       "      <td>1996.000000</td>\n",
       "      <td>44.000000</td>\n",
       "      <td>2.000000</td>\n",
       "      <td>4.000000</td>\n",
       "      <td>3.000000</td>\n",
       "      <td>6990.000000</td>\n",
       "    </tr>\n",
       "    <tr>\n",
       "      <th>75%</th>\n",
       "      <td>2006.000000</td>\n",
       "      <td>59.000000</td>\n",
       "      <td>2.000000</td>\n",
       "      <td>5.000000</td>\n",
       "      <td>5.000000</td>\n",
       "      <td>8190.000000</td>\n",
       "    </tr>\n",
       "    <tr>\n",
       "      <th>max</th>\n",
       "      <td>2016.000000</td>\n",
       "      <td>89.000000</td>\n",
       "      <td>2.000000</td>\n",
       "      <td>7.000000</td>\n",
       "      <td>7.000000</td>\n",
       "      <td>9870.000000</td>\n",
       "    </tr>\n",
       "  </tbody>\n",
       "</table>\n",
       "</div>"
      ],
      "text/plain": [
       "               year           age           sex      polviews       partyid  \\\n",
       "count  49290.000000  49290.000000  49290.000000  49290.000000  49290.000000   \n",
       "mean    1995.364050     46.143132      1.537858      4.105052      2.753905   \n",
       "std       12.336592     17.111420      0.498570      1.377160      2.048108   \n",
       "min     1974.000000     18.000000      1.000000      1.000000      0.000000   \n",
       "25%     1985.000000     32.000000      1.000000      3.000000      1.000000   \n",
       "50%     1996.000000     44.000000      2.000000      4.000000      3.000000   \n",
       "75%     2006.000000     59.000000      2.000000      5.000000      5.000000   \n",
       "max     2016.000000     89.000000      2.000000      7.000000      7.000000   \n",
       "\n",
       "            indus10  \n",
       "count  49290.000000  \n",
       "mean    5993.666504  \n",
       "std     2796.295069  \n",
       "min      170.000000  \n",
       "25%     3890.000000  \n",
       "50%     6990.000000  \n",
       "75%     8190.000000  \n",
       "max     9870.000000  "
      ]
     },
     "execution_count": 5,
     "metadata": {},
     "output_type": "execute_result"
    }
   ],
   "source": [
    "gss.describe()"
   ]
  },
  {
   "cell_type": "markdown",
   "id": "511b29f5",
   "metadata": {},
   "source": [
    "Let's compute probability for some propositions from Banking. The code for \"Banking and related activities\" is 6870.\n",
    "\n",
    "`Question 1: If we choose a random person from the dataset, what is the probability they are a banker?`"
   ]
  },
  {
   "cell_type": "code",
   "execution_count": 6,
   "id": "f26de520",
   "metadata": {},
   "outputs": [
    {
     "data": {
      "text/plain": [
       "caseid\n",
       "1    False\n",
       "2    False\n",
       "5    False\n",
       "6     True\n",
       "7    False\n",
       "Name: indus10, dtype: bool"
      ]
     },
     "execution_count": 6,
     "metadata": {},
     "output_type": "execute_result"
    }
   ],
   "source": [
    "banker = (gss['indus10'] == 6870)\n",
    "banker.head()"
   ]
  },
  {
   "cell_type": "markdown",
   "id": "645ba857",
   "metadata": {},
   "source": [
    "Let's find how many times each value appears."
   ]
  },
  {
   "cell_type": "code",
   "execution_count": 7,
   "id": "a7e4802a",
   "metadata": {},
   "outputs": [
    {
     "data": {
      "text/plain": [
       "False    48562\n",
       "True       728\n",
       "Name: indus10, dtype: int64"
      ]
     },
     "execution_count": 7,
     "metadata": {},
     "output_type": "execute_result"
    }
   ],
   "source": [
    "banker.value_counts(dropna=False).sort_index()"
   ]
  },
  {
   "cell_type": "code",
   "execution_count": 8,
   "id": "0c0fdf2c",
   "metadata": {},
   "outputs": [
    {
     "data": {
      "text/plain": [
       "0.014769730168391155"
      ]
     },
     "execution_count": 8,
     "metadata": {},
     "output_type": "execute_result"
    }
   ],
   "source": [
    "#Compute the probability for a chosen random person to be a banker.\n",
    "\n",
    "banker.mean()"
   ]
  },
  {
   "cell_type": "markdown",
   "id": "557fa077",
   "metadata": {},
   "source": [
    "`Question 2: If we choose a random person from the dataset, what is the probability they are a female?`\n",
    "\n",
    "The values of the column `sex` are encoded like this:\n",
    "\n",
    "```\n",
    "1    Male\n",
    "2    Female\n",
    "```"
   ]
  },
  {
   "cell_type": "code",
   "execution_count": 9,
   "id": "cf5bcc31",
   "metadata": {},
   "outputs": [
    {
     "data": {
      "text/plain": [
       "0.5378575776019476"
      ]
     },
     "execution_count": 9,
     "metadata": {},
     "output_type": "execute_result"
    }
   ],
   "source": [
    "# ..... solution goes here\n",
    "female = (gss['sex'] == 2)\n",
    "female.mean()"
   ]
  },
  {
   "cell_type": "markdown",
   "id": "474e16b9",
   "metadata": {},
   "source": [
    "`Question 3: If we choose a random person in this dataset, what is the probability they are liberal.`\n",
    "\n",
    "The values of `polviews` are on a seven-point scale:\n",
    "\n",
    "\n",
    "1\tExtremely liberal\n",
    "\n",
    "2\tLiberal\n",
    "\n",
    "3\tSlightly liberal\n",
    "\n",
    "4\tModerate\n",
    "\n",
    "5\tSlightly conservative\n",
    "\n",
    "6\tConservative\n",
    "\n",
    "7\tExtremely conservative\n",
    "\n",
    "\n",
    "We will consider `liberal` to be `True` for anyone whose response is \"Extremely liberal\", \"Liberal\", or \"Slightly liberal\""
   ]
  },
  {
   "cell_type": "code",
   "execution_count": null,
   "id": "71592819",
   "metadata": {},
   "outputs": [],
   "source": [
    "gss['polviews'].value_counts(dropna=False).sort_index()"
   ]
  },
  {
   "cell_type": "code",
   "execution_count": 12,
   "id": "b2af9064",
   "metadata": {},
   "outputs": [
    {
     "data": {
      "text/plain": [
       "0.27374721038750255"
      ]
     },
     "execution_count": 12,
     "metadata": {},
     "output_type": "execute_result"
    }
   ],
   "source": [
    "liberal = (gss['polviews'] < 4)\n",
    "liberal.mean()"
   ]
  },
  {
   "cell_type": "markdown",
   "id": "f77bba32",
   "metadata": {},
   "source": [
    "Let's define a function that takes a Boolean series and returns a probability:"
   ]
  },
  {
   "cell_type": "code",
   "execution_count": 10,
   "id": "3128e7f2",
   "metadata": {},
   "outputs": [],
   "source": [
    "def prob(A):\n",
    "    \"\"\"Computes the probability of a proposition, A.\n",
    "    \n",
    "    A: Boolean series\n",
    "    \n",
    "    returns: probability\n",
    "    \"\"\"\n",
    "    assert isinstance(A, pd.Series)\n",
    "    assert A.dtype == 'bool'\n",
    "    \n",
    "    return A.mean()"
   ]
  },
  {
   "cell_type": "code",
   "execution_count": 13,
   "id": "cb634eff",
   "metadata": {},
   "outputs": [
    {
     "data": {
      "text/plain": [
       "0.27374721038750255"
      ]
     },
     "execution_count": 13,
     "metadata": {},
     "output_type": "execute_result"
    }
   ],
   "source": [
    "#verify if the function is behaving correct.\n",
    "prob(liberal)"
   ]
  },
  {
   "cell_type": "markdown",
   "id": "592edc4e",
   "metadata": {},
   "source": [
    "`Question 4: If we choose a random person from the dataset, what is the probability they are a democrat?`\n",
    "\n",
    " The values of `partyid` are encoded like this:\n",
    "\n",
    "```\n",
    "0\tStrong democrat\n",
    "1\tNot str democrat\n",
    "2\tInd,near dem\n",
    "3\tIndependent\n",
    "4\tInd,near rep\n",
    "5\tNot str republican\n",
    "6\tStrong republican\n",
    "7\tOther party\n",
    "```\n",
    "\n",
    "We will consider `democrat` to include respondents who chose \"Strong democrat\" or \"Not str democrat\":"
   ]
  },
  {
   "cell_type": "code",
   "execution_count": 14,
   "id": "3b28b31a",
   "metadata": {},
   "outputs": [
    {
     "data": {
      "text/plain": [
       "0.3662609048488537"
      ]
     },
     "execution_count": 14,
     "metadata": {},
     "output_type": "execute_result"
    }
   ],
   "source": [
    "# compute probability \n",
    "# .....   solution goes here.\n",
    "democrat = (gss['partyid'] <= 1)\n",
    "prob(democrat)\n"
   ]
  },
  {
   "cell_type": "markdown",
   "id": "7d35d7bd",
   "metadata": {},
   "source": [
    "### Conjunction\n",
    "\n",
    "Now that we have a defined a function to compute probability, let's move on to conjunction.\n",
    "\n",
    "\"Conjunction\" is another name for the logical `and` operation.  If you have two propositions, `A` and `B`, the conjunction `A and B` is `True` if both `A` and `B` are `True`, and `False` otherwise.\n",
    "\n",
    " Use `prob` and the `&` operator to compute the following probabilities.\n",
    " \n",
    "\n",
    "* Q5: What is the probability that a random respondent is a banker and liberal?\n",
    "\n",
    "* Q6: What is the probability that a random respondent is female, a banker, and liberal?\n",
    "\n",
    "* Q7: What is the probability that a random respondent is female, a banker, and a liberal Democrat?\n",
    " "
   ]
  },
  {
   "cell_type": "code",
   "execution_count": 15,
   "id": "892d9c4d",
   "metadata": {},
   "outputs": [
    {
     "data": {
      "text/plain": [
       "0.003306958815175492"
      ]
     },
     "execution_count": 15,
     "metadata": {},
     "output_type": "execute_result"
    }
   ],
   "source": [
    " #Solution for Q5 goes here\n",
    "prob(banker & liberal)"
   ]
  },
  {
   "cell_type": "code",
   "execution_count": 16,
   "id": "2a9cfa1b",
   "metadata": {},
   "outputs": [
    {
     "data": {
      "text/plain": [
       "0.002556299452221546"
      ]
     },
     "execution_count": 16,
     "metadata": {},
     "output_type": "execute_result"
    }
   ],
   "source": [
    " #Solution for Q6 goes here\n",
    "prob(female & banker & liberal)"
   ]
  },
  {
   "cell_type": "code",
   "execution_count": 17,
   "id": "0de865c6",
   "metadata": {},
   "outputs": [
    {
     "data": {
      "text/plain": [
       "0.0012375735443294787"
      ]
     },
     "execution_count": 17,
     "metadata": {},
     "output_type": "execute_result"
    }
   ],
   "source": [
    " #Solution for Q7 goes here\n",
    "prob(female & banker & liberal & democrat)"
   ]
  },
  {
   "cell_type": "markdown",
   "id": "0675946e",
   "metadata": {},
   "source": [
    "`Q8: Is the conjunction have commutative property?`"
   ]
  },
  {
   "cell_type": "code",
   "execution_count": 21,
   "id": "451ee3e1",
   "metadata": {},
   "outputs": [
    {
     "name": "stdout",
     "output_type": "stream",
     "text": [
      "0.003306958815175492\n",
      "0.003306958815175492\n"
     ]
    }
   ],
   "source": [
    "# Solution for Q8 goes here\n",
    "print(prob(banker & liberal))\n",
    "print(prob(liberal & banker))"
   ]
  },
  {
   "cell_type": "markdown",
   "id": "7aac9d2b",
   "metadata": {},
   "source": [
    "### Conditional probability\n",
    "\n",
    "* Q9: What is the probability that a respondent is a Democrat, given that they are liberal?\n",
    "\n",
    "* Q10: What is the probability that a respondent is female, given that they are a banker?\n",
    "\n",
    "* Q11: What is the probability that a respondent is liberal, given that they are female?\n"
   ]
  },
  {
   "cell_type": "code",
   "execution_count": 22,
   "id": "5c050c74",
   "metadata": {},
   "outputs": [
    {
     "data": {
      "text/plain": [
       "0.5206403320240125"
      ]
     },
     "execution_count": 22,
     "metadata": {},
     "output_type": "execute_result"
    }
   ],
   "source": [
    "selected = democrat[liberal]\n",
    "prob(selected)"
   ]
  },
  {
   "cell_type": "markdown",
   "id": "39328234",
   "metadata": {},
   "source": [
    "Write a function with name `conditional` to take two Boolean series, `A` and `B`, and compute the conditional probability of `A` given `B`:\n"
   ]
  },
  {
   "cell_type": "code",
   "execution_count": 23,
   "id": "da79fff8",
   "metadata": {},
   "outputs": [],
   "source": [
    "#solution goes here\n",
    "def conditional(A, B):\n",
    "    \"\"\"Conditional probability of A given B.\n",
    "    \n",
    "    A: Boolean series\n",
    "    B: Boolean series\n",
    "    \n",
    "    returns: probability\n",
    "    \"\"\"\n",
    "    return prob(A[B])"
   ]
  },
  {
   "cell_type": "code",
   "execution_count": 24,
   "id": "ae02cdf2",
   "metadata": {},
   "outputs": [
    {
     "data": {
      "text/plain": [
       "0.5206403320240125"
      ]
     },
     "execution_count": 24,
     "metadata": {},
     "output_type": "execute_result"
    }
   ],
   "source": [
    "conditional(democrat, liberal)"
   ]
  },
  {
   "cell_type": "code",
   "execution_count": 25,
   "id": "452484e0",
   "metadata": {},
   "outputs": [
    {
     "data": {
      "text/plain": [
       "0.7706043956043956"
      ]
     },
     "execution_count": 25,
     "metadata": {},
     "output_type": "execute_result"
    }
   ],
   "source": [
    "  #solution for Q10 goes here\n",
    "conditional(female, banker)"
   ]
  },
  {
   "cell_type": "code",
   "execution_count": null,
   "id": "23144792",
   "metadata": {},
   "outputs": [],
   "source": [
    "  #solution for Q11 goes here\n",
    "conditional(liberal, female)"
   ]
  },
  {
   "cell_type": "markdown",
   "id": "a1ec2ee3",
   "metadata": {},
   "source": [
    "`Q 12: Is conditional probability commutative?`"
   ]
  },
  {
   "cell_type": "code",
   "execution_count": null,
   "id": "52e6ca4d",
   "metadata": {},
   "outputs": [],
   "source": [
    "#solution for Q12 goes here\n",
    "conditional(banker,female)\n",
    "conditional(female, banker)"
   ]
  },
  {
   "cell_type": "markdown",
   "id": "c10809e3",
   "metadata": {},
   "source": [
    "`Q: 13 Compute the probability a respondent is female, given that they are a liberal Democrat.`"
   ]
  },
  {
   "cell_type": "code",
   "execution_count": null,
   "id": "43787636",
   "metadata": {},
   "outputs": [],
   "source": [
    "#solution for Q13 goes here\n",
    "conditional(female, liberal & democrat)"
   ]
  },
  {
   "cell_type": "markdown",
   "id": "09edc518",
   "metadata": {},
   "source": [
    "`Q 14: What fraction of female bankers are liberal Democrats?`"
   ]
  },
  {
   "cell_type": "code",
   "execution_count": 26,
   "id": "5940b38f",
   "metadata": {},
   "outputs": [
    {
     "data": {
      "text/plain": [
       "0.10873440285204991"
      ]
     },
     "execution_count": 26,
     "metadata": {},
     "output_type": "execute_result"
    }
   ],
   "source": [
    "#solution for Q14 goes here\n",
    "conditional(liberal & democrat, female & banker)"
   ]
  },
  {
   "cell_type": "markdown",
   "id": "269a5e8b",
   "metadata": {},
   "source": [
    "# More propositions"
   ]
  },
  {
   "cell_type": "markdown",
   "id": "64178084",
   "metadata": {},
   "source": [
    "Now, we'll derive three relationships between conjunction and conditional probability:\n",
    "\n",
    "* Theorem 1: Using conjunction to compute a conditional probability, \n",
    "$P(A|B) = \\frac{P(A~\\mathrm{and}~B)}{P(B)}$\n",
    "\n",
    "\n",
    "* Theorem 2: Using a conditional probability to compute a conjunction, \n",
    "$P(A~\\mathrm{and}~B) = P(B) P(A|B)$\n",
    "\n",
    "\n",
    "* Theorem 3: Using `conditional(A, B)` to compute `conditional(B, A)`, $P(A|B) = \\frac{P(A) P(B|A)}{P(B)}$\n",
    "  (Bayes's Theorem)\n"
   ]
  },
  {
   "cell_type": "markdown",
   "id": "b6c93b0c",
   "metadata": {},
   "source": [
    "We will validate above relationships with some example. \n",
    "\n"
   ]
  },
  {
   "cell_type": "markdown",
   "id": "de6b409d",
   "metadata": {},
   "source": [
    "\n",
    "    \n",
    "` Q15: Verify Theorem 1 by checking what fraction of builders are male`\n",
    "\n",
    "The industry code (`indus10` ) for \"Construction\" is 770. "
   ]
  },
  {
   "cell_type": "code",
   "execution_count": 27,
   "id": "ed2f6b5d",
   "metadata": {},
   "outputs": [
    {
     "data": {
      "text/plain": [
       "0.05978900385473727"
      ]
     },
     "execution_count": 27,
     "metadata": {},
     "output_type": "execute_result"
    }
   ],
   "source": [
    "#solution for Q15 \n",
    "male = (gss['sex']==1)\n",
    "prob(male)\n",
    "\n",
    "builder = (gss['indus10'] == 770)\n",
    "\n",
    "prob(builder)\n"
   ]
  },
  {
   "cell_type": "code",
   "execution_count": 28,
   "id": "29086538",
   "metadata": {},
   "outputs": [
    {
     "name": "stdout",
     "output_type": "stream",
     "text": [
      "0.8920936545639634\n",
      "0.8920936545639634\n"
     ]
    }
   ],
   "source": [
    "print(conditional(male, builder))\n",
    "print(prob(male & builder) / prob(builder))"
   ]
  },
  {
   "cell_type": "markdown",
   "id": "d0f13eb3",
   "metadata": {},
   "source": [
    " `Q16: Verify Theorem 2 by checking the fraction of respondents who are conservative republican`\n",
    " \n",
    "Consider \"Strong Republican\" and \"Not Strong Republican\" as Republicans, and \n",
    "\n",
    "Consider \"Slightly Conservative\",\"Conservative\" and \"Extemely Conservative\" as Conservative.\n",
    "\n",
    "Hint: The `isin` function checks whether values are in a given sequence"
   ]
  },
  {
   "cell_type": "code",
   "execution_count": null,
   "id": "5d24aca4",
   "metadata": {},
   "outputs": [],
   "source": [
    "#Solution for Q16 goes here\n",
    "\n",
    "conservative = (gss['polviews'] > 4)\n",
    "prob(conservative)\n",
    "\n",
    "republican= (gss['partyid'].isin([5,6]))\n",
    "prob(republican)\n",
    "\n",
    "\n",
    "prob(conservative & republican)\n",
    "prob(republican) * conditional(conservative, republican)"
   ]
  },
  {
   "cell_type": "markdown",
   "id": "6c3049e2",
   "metadata": {},
   "source": [
    " `Q17: Verify Theorem 3 by computing the fraction of builders who are liberal`"
   ]
  },
  {
   "cell_type": "code",
   "execution_count": null,
   "id": "0b1b6002",
   "metadata": {},
   "outputs": [],
   "source": [
    "#Solution for Q17 goes here\n",
    "conditional(liberal, builder)\n",
    "prob(liberal) * conditional(builder, liberal) / prob(builder)"
   ]
  },
  {
   "cell_type": "markdown",
   "id": "5b7da48b",
   "metadata": {},
   "source": [
    "# Joint, Marginals, and Conditional Probability \n",
    "\n",
    "Now we will take a step toward multivariate distributions, starting with two variables. We will use contingency tabke (cross-tabulation) to compute a joint distribution, then use the joint distribution to compute conditional distributions and marginal distribution."
   ]
  },
  {
   "cell_type": "markdown",
   "id": "384cb499",
   "metadata": {},
   "source": [
    "Lets generate a dataset of colors and fruits."
   ]
  },
  {
   "cell_type": "code",
   "execution_count": 29,
   "id": "2bb2d829",
   "metadata": {},
   "outputs": [],
   "source": [
    "colors = ['red', 'yellow', 'green']\n",
    "fruits = ['apple', 'banana', 'grape']"
   ]
  },
  {
   "cell_type": "markdown",
   "id": "f1971afd",
   "metadata": {},
   "source": [
    "Now lets take a random sample of 100 fruits."
   ]
  },
  {
   "cell_type": "code",
   "execution_count": 30,
   "id": "44904460",
   "metadata": {},
   "outputs": [
    {
     "data": {
      "text/plain": [
       "array(['apple', 'banana', 'apple', 'grape', 'grape', 'apple', 'grape',\n",
       "       'banana', 'banana', 'grape', 'apple', 'apple', 'apple', 'banana',\n",
       "       'grape', 'apple', 'grape', 'grape', 'grape', 'banana', 'grape',\n",
       "       'apple', 'banana', 'apple', 'apple', 'grape', 'grape', 'banana',\n",
       "       'grape', 'apple', 'apple', 'grape', 'apple', 'grape', 'apple',\n",
       "       'grape', 'banana', 'grape', 'apple', 'grape', 'banana', 'grape',\n",
       "       'banana', 'banana', 'apple', 'banana', 'grape', 'apple', 'grape',\n",
       "       'banana', 'banana', 'banana', 'banana', 'grape', 'apple', 'grape',\n",
       "       'grape', 'apple', 'apple', 'grape', 'grape', 'apple', 'apple',\n",
       "       'grape', 'grape', 'apple', 'grape', 'apple', 'banana', 'grape',\n",
       "       'banana', 'grape', 'grape', 'grape', 'apple', 'grape', 'banana',\n",
       "       'apple', 'apple', 'banana', 'banana', 'grape', 'banana', 'banana',\n",
       "       'banana', 'banana', 'grape', 'apple', 'grape', 'grape', 'apple',\n",
       "       'banana', 'grape', 'apple', 'grape', 'apple', 'apple', 'banana',\n",
       "       'banana', 'banana'], dtype='<U6')"
      ]
     },
     "execution_count": 30,
     "metadata": {},
     "output_type": "execute_result"
    }
   ],
   "source": [
    "np.random.seed(2)\n",
    "fruit_sample = np.random.choice(fruits, 100, replace=True)\n",
    "fruit_sample"
   ]
  },
  {
   "cell_type": "markdown",
   "id": "fa55d642",
   "metadata": {},
   "source": [
    "Similartly, now lets take a random sample of colors."
   ]
  },
  {
   "cell_type": "code",
   "execution_count": 31,
   "id": "ef96459f",
   "metadata": {},
   "outputs": [
    {
     "data": {
      "text/plain": [
       "array(['red', 'red', 'green', 'green', 'yellow', 'yellow', 'green',\n",
       "       'yellow', 'green', 'red', 'green', 'yellow', 'red', 'green', 'red',\n",
       "       'green', 'red', 'green', 'yellow', 'red', 'red', 'green', 'green',\n",
       "       'yellow', 'yellow', 'yellow', 'green', 'yellow', 'green', 'red',\n",
       "       'yellow', 'red', 'red', 'green', 'yellow', 'green', 'green',\n",
       "       'green', 'red', 'red', 'yellow', 'green', 'green', 'yellow',\n",
       "       'green', 'yellow', 'yellow', 'red', 'yellow', 'red', 'green',\n",
       "       'red', 'yellow', 'yellow', 'red', 'yellow', 'red', 'green',\n",
       "       'yellow', 'yellow', 'yellow', 'green', 'red', 'green', 'red',\n",
       "       'red', 'green', 'yellow', 'yellow', 'red', 'yellow', 'yellow',\n",
       "       'yellow', 'red', 'green', 'red', 'green', 'red', 'red', 'green',\n",
       "       'red', 'red', 'red', 'green', 'yellow', 'yellow', 'green', 'green',\n",
       "       'yellow', 'yellow', 'green', 'yellow', 'yellow', 'red', 'red',\n",
       "       'green', 'yellow', 'red', 'yellow', 'red'], dtype='<U6')"
      ]
     },
     "execution_count": 31,
     "metadata": {},
     "output_type": "execute_result"
    }
   ],
   "source": [
    "color_sample = np.random.choice(colors, 100, replace=True)\n",
    "color_sample"
   ]
  },
  {
   "cell_type": "markdown",
   "id": "d577423b",
   "metadata": {},
   "source": [
    "Can we see the distribution (probability mass function) on fruits and colours?"
   ]
  },
  {
   "cell_type": "code",
   "execution_count": 32,
   "id": "2d3dce1d",
   "metadata": {},
   "outputs": [],
   "source": [
    "def pmf_from_seq(seq):\n",
    "    \"\"\"Make a PMF from a sequence of values.\n",
    "    \n",
    "    seq: sequence\n",
    "    \n",
    "    returns: Series representing a PMF\n",
    "    \"\"\"\n",
    "    pmf = pd.Series(seq).value_counts(sort=False).sort_index()\n",
    "    pmf /= pmf.sum()\n",
    "    return pmf"
   ]
  },
  {
   "cell_type": "code",
   "execution_count": 33,
   "id": "782f74f2",
   "metadata": {},
   "outputs": [
    {
     "data": {
      "image/png": "[encoded data removed]",
      "text/plain": [
       "<Figure size 640x480 with 1 Axes>"
      ]
     },
     "metadata": {},
     "output_type": "display_data"
    }
   ],
   "source": [
    "pmf_fruit = pmf_from_seq(fruit_sample)\n",
    "pmf_fruit.plot.bar(color='C0')\n",
    "\n",
    "plt.ylabel('Probability')\n",
    "plt.title('Distribution of fruit');"
   ]
  },
  {
   "cell_type": "code",
   "execution_count": 34,
   "id": "95761566",
   "metadata": {},
   "outputs": [
    {
     "data": {
      "image/png": "[encoded data removed]",
      "text/plain": [
       "<Figure size 640x480 with 1 Axes>"
      ]
     },
     "metadata": {},
     "output_type": "display_data"
    }
   ],
   "source": [
    "pmf_color = pmf_from_seq(color_sample)\n",
    "\n",
    "pmf_color.plot.bar(color='C1')\n",
    "\n",
    "plt.ylabel('Probability')\n",
    "plt.title('Distribution of colors');"
   ]
  },
  {
   "cell_type": "markdown",
   "id": "290ba85e",
   "metadata": {},
   "source": [
    "Looking at these two probability mass functions, we know the distributions of fruits, ignoring color, and we know the proportion of each color, ignoring fruit type. But if we only have the distributions and not the original data, we don't know how many apples are green, for example, or how many yellow fruits are bananas.\n",
    "\n",
    "We can compute that information in the form of contigency table using `crosstab`, which computes the number of cases for each combination of fruit type and color."
   ]
  },
  {
   "cell_type": "code",
   "execution_count": 35,
   "id": "4f32fa4c",
   "metadata": {},
   "outputs": [
    {
     "data": {
      "text/html": [
       "<div>\n",
       "<style scoped>\n",
       "    .dataframe tbody tr th:only-of-type {\n",
       "        vertical-align: middle;\n",
       "    }\n",
       "\n",
       "    .dataframe tbody tr th {\n",
       "        vertical-align: top;\n",
       "    }\n",
       "\n",
       "    .dataframe thead th {\n",
       "        text-align: right;\n",
       "    }\n",
       "</style>\n",
       "<table border=\"1\" class=\"dataframe\">\n",
       "  <thead>\n",
       "    <tr style=\"text-align: right;\">\n",
       "      <th>fruit</th>\n",
       "      <th>apple</th>\n",
       "      <th>banana</th>\n",
       "      <th>grape</th>\n",
       "    </tr>\n",
       "    <tr>\n",
       "      <th>color</th>\n",
       "      <th></th>\n",
       "      <th></th>\n",
       "      <th></th>\n",
       "    </tr>\n",
       "  </thead>\n",
       "  <tbody>\n",
       "    <tr>\n",
       "      <th>green</th>\n",
       "      <td>11</td>\n",
       "      <td>9</td>\n",
       "      <td>12</td>\n",
       "    </tr>\n",
       "    <tr>\n",
       "      <th>red</th>\n",
       "      <td>12</td>\n",
       "      <td>8</td>\n",
       "      <td>13</td>\n",
       "    </tr>\n",
       "    <tr>\n",
       "      <th>yellow</th>\n",
       "      <td>9</td>\n",
       "      <td>12</td>\n",
       "      <td>14</td>\n",
       "    </tr>\n",
       "  </tbody>\n",
       "</table>\n",
       "</div>"
      ],
      "text/plain": [
       "fruit   apple  banana  grape\n",
       "color                       \n",
       "green      11       9     12\n",
       "red        12       8     13\n",
       "yellow      9      12     14"
      ]
     },
     "execution_count": 35,
     "metadata": {},
     "output_type": "execute_result"
    }
   ],
   "source": [
    "contingency_table = pd.crosstab(color_sample, fruit_sample, \n",
    "                   rownames=['color'], colnames=['fruit'])\n",
    "contingency_table"
   ]
  },
  {
   "cell_type": "markdown",
   "id": "4da5af35",
   "metadata": {},
   "source": [
    "A contigency table (or cross tabulation) represents the \"joint distribution\" of two variables. \n",
    "\n",
    "If we normalize contingency_table so the sum of the elements is 1, the result is a joint PMF:"
   ]
  },
  {
   "cell_type": "code",
   "execution_count": 36,
   "id": "81ea9087",
   "metadata": {},
   "outputs": [
    {
     "data": {
      "text/html": [
       "<div>\n",
       "<style scoped>\n",
       "    .dataframe tbody tr th:only-of-type {\n",
       "        vertical-align: middle;\n",
       "    }\n",
       "\n",
       "    .dataframe tbody tr th {\n",
       "        vertical-align: top;\n",
       "    }\n",
       "\n",
       "    .dataframe thead th {\n",
       "        text-align: right;\n",
       "    }\n",
       "</style>\n",
       "<table border=\"1\" class=\"dataframe\">\n",
       "  <thead>\n",
       "    <tr style=\"text-align: right;\">\n",
       "      <th>fruit</th>\n",
       "      <th>apple</th>\n",
       "      <th>banana</th>\n",
       "      <th>grape</th>\n",
       "    </tr>\n",
       "    <tr>\n",
       "      <th>color</th>\n",
       "      <th></th>\n",
       "      <th></th>\n",
       "      <th></th>\n",
       "    </tr>\n",
       "  </thead>\n",
       "  <tbody>\n",
       "    <tr>\n",
       "      <th>green</th>\n",
       "      <td>0.11</td>\n",
       "      <td>0.09</td>\n",
       "      <td>0.12</td>\n",
       "    </tr>\n",
       "    <tr>\n",
       "      <th>red</th>\n",
       "      <td>0.12</td>\n",
       "      <td>0.08</td>\n",
       "      <td>0.13</td>\n",
       "    </tr>\n",
       "    <tr>\n",
       "      <th>yellow</th>\n",
       "      <td>0.09</td>\n",
       "      <td>0.12</td>\n",
       "      <td>0.14</td>\n",
       "    </tr>\n",
       "  </tbody>\n",
       "</table>\n",
       "</div>"
      ],
      "text/plain": [
       "fruit   apple  banana  grape\n",
       "color                       \n",
       "green    0.11    0.09   0.12\n",
       "red      0.12    0.08   0.13\n",
       "yellow   0.09    0.12   0.14"
      ]
     },
     "execution_count": 36,
     "metadata": {},
     "output_type": "execute_result"
    }
   ],
   "source": [
    "joint = contingency_table / contingency_table.to_numpy().sum()\n",
    "joint"
   ]
  },
  {
   "cell_type": "markdown",
   "id": "7e936e4e",
   "metadata": {},
   "source": [
    "In this joint PMF table, each column represents the conditional distribution of color for a given fruit."
   ]
  },
  {
   "cell_type": "code",
   "execution_count": 37,
   "id": "efd0d09f",
   "metadata": {},
   "outputs": [
    {
     "data": {
      "text/plain": [
       "color\n",
       "green     0.11\n",
       "red       0.12\n",
       "yellow    0.09\n",
       "Name: apple, dtype: float64"
      ]
     },
     "execution_count": 37,
     "metadata": {},
     "output_type": "execute_result"
    }
   ],
   "source": [
    "col = joint['apple']\n",
    "col"
   ]
  },
  {
   "cell_type": "markdown",
   "id": "bbb52ee6",
   "metadata": {},
   "source": [
    "If we normalize it, we get the conditional distribution of color for a given fruit."
   ]
  },
  {
   "cell_type": "code",
   "execution_count": 38,
   "id": "259d21c3",
   "metadata": {},
   "outputs": [
    {
     "data": {
      "text/plain": [
       "color\n",
       "green     0.34375\n",
       "red       0.37500\n",
       "yellow    0.28125\n",
       "Name: apple, dtype: float64"
      ]
     },
     "execution_count": 38,
     "metadata": {},
     "output_type": "execute_result"
    }
   ],
   "source": [
    "col / col.sum()"
   ]
  },
  {
   "cell_type": "markdown",
   "id": "3994e938",
   "metadata": {},
   "source": [
    "Lets write a function to compute conditional distribution"
   ]
  },
  {
   "cell_type": "code",
   "execution_count": 39,
   "id": "d91b3f5b",
   "metadata": {},
   "outputs": [],
   "source": [
    "def conditional(joint, name, value):\n",
    "    \"\"\"Compute a conditional distribution.\n",
    "    \n",
    "    joint: DataFrame representing a joint PMF\n",
    "    name: string name of an axis\n",
    "    value: value to condition on\n",
    "    \n",
    "    returns: Series representing a conditional PMF\n",
    "    \"\"\"\n",
    "    if joint.columns.name == name:\n",
    "        cond = joint[value]\n",
    "    elif joint.index.name == name:\n",
    "        cond = joint.loc[value]\n",
    "    return cond / cond.sum()"
   ]
  },
  {
   "cell_type": "code",
   "execution_count": 40,
   "id": "e3910f9f",
   "metadata": {},
   "outputs": [
    {
     "data": {
      "text/plain": [
       "color\n",
       "green     0.34375\n",
       "red       0.37500\n",
       "yellow    0.28125\n",
       "Name: apple, dtype: float64"
      ]
     },
     "execution_count": 40,
     "metadata": {},
     "output_type": "execute_result"
    }
   ],
   "source": [
    "conditional(joint, 'fruit', 'apple')"
   ]
  },
  {
   "cell_type": "markdown",
   "id": "85f958c0",
   "metadata": {},
   "source": [
    "Given a joint distribution, we can compute the unconditioned (marginal) distribution of either variable.\n",
    "\n",
    "Lets compute the marginal distribution of fruit."
   ]
  },
  {
   "cell_type": "code",
   "execution_count": 41,
   "id": "211bc5e7",
   "metadata": {},
   "outputs": [
    {
     "data": {
      "text/plain": [
       "fruit\n",
       "apple     0.32\n",
       "banana    0.29\n",
       "grape     0.39\n",
       "dtype: float64"
      ]
     },
     "execution_count": 41,
     "metadata": {},
     "output_type": "execute_result"
    }
   ],
   "source": [
    "marg_fruit = joint.sum(axis=0)\n",
    "marg_fruit"
   ]
  },
  {
   "cell_type": "code",
   "execution_count": 42,
   "id": "8fda63dc",
   "metadata": {},
   "outputs": [
    {
     "data": {
      "text/plain": [
       "color\n",
       "green     0.32\n",
       "red       0.33\n",
       "yellow    0.35\n",
       "dtype: float64"
      ]
     },
     "execution_count": 42,
     "metadata": {},
     "output_type": "execute_result"
    }
   ],
   "source": [
    "marg_color = joint.sum(axis=1)\n",
    "marg_color"
   ]
  },
  {
   "cell_type": "markdown",
   "id": "74a513c7",
   "metadata": {},
   "source": [
    "Lets write a function to compute marginal distribution"
   ]
  },
  {
   "cell_type": "code",
   "execution_count": 43,
   "id": "4f7139c8",
   "metadata": {},
   "outputs": [],
   "source": [
    "def marginal(joint, name):\n",
    "    \"\"\"Compute a marginal distribution.\n",
    "    \n",
    "    joint: DataFrame representing a joint PMF\n",
    "    name: string name of an axis\n",
    "    \n",
    "    returns: Series representing a marginal PMF\n",
    "    \"\"\"\n",
    "    if joint.columns.name == name:\n",
    "        return joint.sum(axis=0)\n",
    "    elif joint.index.name == name:\n",
    "        return joint.sum(axis=1)"
   ]
  },
  {
   "cell_type": "code",
   "execution_count": 44,
   "id": "15f6ae71",
   "metadata": {},
   "outputs": [
    {
     "data": {
      "text/plain": [
       "fruit\n",
       "apple     0.32\n",
       "banana    0.29\n",
       "grape     0.39\n",
       "dtype: float64"
      ]
     },
     "execution_count": 44,
     "metadata": {},
     "output_type": "execute_result"
    }
   ],
   "source": [
    "marg_fruit = marginal(joint, 'fruit')\n",
    "marg_fruit"
   ]
  },
  {
   "cell_type": "markdown",
   "id": "633ac4b5",
   "metadata": {},
   "source": [
    "**Exercise**:  USe GSS survey data to explore the joint distribution of two variables, `partyid` and `polviews`.\n",
    "\n",
    "1. Make a cross tabulation of `gss['partyid']` and `gss['polviews']` and normalize it to make a joint PMF.\n",
    "\n",
    "2. Compute the marginal distributions of `polviews`, and plot the results.\n",
    "\n",
    "3. Compute the conditional distribution of partyid for people who identify themselves as \"Extremely conservative\" (`polviews`==7). How many of them are \"strong Republicans\" (`partyid`==6)?"
   ]
  },
  {
   "cell_type": "code",
   "execution_count": 45,
   "id": "294f7707",
   "metadata": {},
   "outputs": [
    {
     "data": {
      "text/html": [
       "<div>\n",
       "<style scoped>\n",
       "    .dataframe tbody tr th:only-of-type {\n",
       "        vertical-align: middle;\n",
       "    }\n",
       "\n",
       "    .dataframe tbody tr th {\n",
       "        vertical-align: top;\n",
       "    }\n",
       "\n",
       "    .dataframe thead th {\n",
       "        text-align: right;\n",
       "    }\n",
       "</style>\n",
       "<table border=\"1\" class=\"dataframe\">\n",
       "  <thead>\n",
       "    <tr style=\"text-align: right;\">\n",
       "      <th>polviews</th>\n",
       "      <th>1.0</th>\n",
       "      <th>2.0</th>\n",
       "      <th>3.0</th>\n",
       "      <th>4.0</th>\n",
       "      <th>5.0</th>\n",
       "      <th>6.0</th>\n",
       "      <th>7.0</th>\n",
       "    </tr>\n",
       "    <tr>\n",
       "      <th>partyid</th>\n",
       "      <th></th>\n",
       "      <th></th>\n",
       "      <th></th>\n",
       "      <th></th>\n",
       "      <th></th>\n",
       "      <th></th>\n",
       "      <th></th>\n",
       "    </tr>\n",
       "  </thead>\n",
       "  <tbody>\n",
       "    <tr>\n",
       "      <th>0.0</th>\n",
       "      <td>0.011016</td>\n",
       "      <td>0.038608</td>\n",
       "      <td>0.023392</td>\n",
       "      <td>0.054189</td>\n",
       "      <td>0.014912</td>\n",
       "      <td>0.013431</td>\n",
       "      <td>0.004403</td>\n",
       "    </tr>\n",
       "    <tr>\n",
       "      <th>1.0</th>\n",
       "      <td>0.004930</td>\n",
       "      <td>0.028505</td>\n",
       "      <td>0.036072</td>\n",
       "      <td>0.090282</td>\n",
       "      <td>0.027450</td>\n",
       "      <td>0.015825</td>\n",
       "      <td>0.003246</td>\n",
       "    </tr>\n",
       "    <tr>\n",
       "      <th>2.0</th>\n",
       "      <td>0.005295</td>\n",
       "      <td>0.020836</td>\n",
       "      <td>0.024244</td>\n",
       "      <td>0.050517</td>\n",
       "      <td>0.014486</td>\n",
       "      <td>0.008034</td>\n",
       "      <td>0.001907</td>\n",
       "    </tr>\n",
       "    <tr>\n",
       "      <th>3.0</th>\n",
       "      <td>0.003591</td>\n",
       "      <td>0.012802</td>\n",
       "      <td>0.015480</td>\n",
       "      <td>0.072449</td>\n",
       "      <td>0.018848</td>\n",
       "      <td>0.013938</td>\n",
       "      <td>0.003469</td>\n",
       "    </tr>\n",
       "    <tr>\n",
       "      <th>4.0</th>\n",
       "      <td>0.000913</td>\n",
       "      <td>0.004971</td>\n",
       "      <td>0.008988</td>\n",
       "      <td>0.034774</td>\n",
       "      <td>0.022642</td>\n",
       "      <td>0.017265</td>\n",
       "      <td>0.003003</td>\n",
       "    </tr>\n",
       "    <tr>\n",
       "      <th>5.0</th>\n",
       "      <td>0.001075</td>\n",
       "      <td>0.007324</td>\n",
       "      <td>0.013390</td>\n",
       "      <td>0.058876</td>\n",
       "      <td>0.043538</td>\n",
       "      <td>0.032786</td>\n",
       "      <td>0.004017</td>\n",
       "    </tr>\n",
       "    <tr>\n",
       "      <th>6.0</th>\n",
       "      <td>0.001075</td>\n",
       "      <td>0.003206</td>\n",
       "      <td>0.003855</td>\n",
       "      <td>0.018239</td>\n",
       "      <td>0.017022</td>\n",
       "      <td>0.045182</td>\n",
       "      <td>0.011422</td>\n",
       "    </tr>\n",
       "    <tr>\n",
       "      <th>7.0</th>\n",
       "      <td>0.001359</td>\n",
       "      <td>0.001582</td>\n",
       "      <td>0.001238</td>\n",
       "      <td>0.004991</td>\n",
       "      <td>0.002191</td>\n",
       "      <td>0.002029</td>\n",
       "      <td>0.000893</td>\n",
       "    </tr>\n",
       "  </tbody>\n",
       "</table>\n",
       "</div>"
      ],
      "text/plain": [
       "polviews       1.0       2.0       3.0       4.0       5.0       6.0       7.0\n",
       "partyid                                                                       \n",
       "0.0       0.011016  0.038608  0.023392  0.054189  0.014912  0.013431  0.004403\n",
       "1.0       0.004930  0.028505  0.036072  0.090282  0.027450  0.015825  0.003246\n",
       "2.0       0.005295  0.020836  0.024244  0.050517  0.014486  0.008034  0.001907\n",
       "3.0       0.003591  0.012802  0.015480  0.072449  0.018848  0.013938  0.003469\n",
       "4.0       0.000913  0.004971  0.008988  0.034774  0.022642  0.017265  0.003003\n",
       "5.0       0.001075  0.007324  0.013390  0.058876  0.043538  0.032786  0.004017\n",
       "6.0       0.001075  0.003206  0.003855  0.018239  0.017022  0.045182  0.011422\n",
       "7.0       0.001359  0.001582  0.001238  0.004991  0.002191  0.002029  0.000893"
      ]
     },
     "execution_count": 45,
     "metadata": {},
     "output_type": "execute_result"
    }
   ],
   "source": [
    "#Solution for task 1 goes here\n",
    "cross_tab = pd.crosstab(gss['partyid'], gss['polviews'])\n",
    "joint_table = cross_tab / cross_tab.to_numpy().sum()\n",
    "joint_table"
   ]
  },
  {
   "cell_type": "code",
   "execution_count": 46,
   "id": "1c687247",
   "metadata": {},
   "outputs": [
    {
     "data": {
      "image/png": "[encoded data removed]",
      "text/plain": [
       "<Figure size 640x480 with 1 Axes>"
      ]
     },
     "metadata": {},
     "output_type": "display_data"
    }
   ],
   "source": [
    "#Solution for task 2 goes here\n",
    "marginal(joint_table, 'polviews').plot.bar(color='C2')\n",
    "plt.ylabel('Probability')\n",
    "plt.title('Distribution of polviews');"
   ]
  },
  {
   "cell_type": "code",
   "execution_count": 47,
   "id": "2d183fe5",
   "metadata": {},
   "outputs": [
    {
     "data": {
      "text/plain": [
       "0.35297805642633234"
      ]
     },
     "execution_count": 47,
     "metadata": {},
     "output_type": "execute_result"
    },
    {
     "data": {
      "image/png": "[encoded data removed]",
      "text/plain": [
       "<Figure size 640x480 with 1 Axes>"
      ]
     },
     "metadata": {},
     "output_type": "display_data"
    }
   ],
   "source": [
    "#Solution for task 3 goes here\n",
    "cond_partyid = conditional(joint_table, 'polviews', 7)\n",
    "cond_partyid.plot.bar(label='Extremely conservative', color='C4')\n",
    "\n",
    "plt.ylabel('Probability')\n",
    "plt.title('Distribution of partyid')\n",
    "\n",
    "cond_partyid[6]"
   ]
  },
  {
   "cell_type": "markdown",
   "id": "5f59f1a5",
   "metadata": {},
   "source": [
    "**References**:\n",
    "\n",
    "1. Stats: Data and Models, by Deveaux, Velleman, Bock, Fourth (Global) Edition, Pearson 2016.– Chapters 1-4, 6-8, 13-14    \n",
    "2. Bite Size Bayes, an introduction to probability and Bayesian statistics using Python"
   ]
  },
  {
   "cell_type": "code",
   "execution_count": null,
   "id": "2f4f7303",
   "metadata": {},
   "outputs": [],
   "source": []
  }
 ],
 "metadata": {
  "kernelspec": {
   "display_name": "Python 3 (ipykernel)",
   "language": "python",
   "name": "python3"
  },
  "language_info": {
   "codemirror_mode": {
    "name": "ipython",
    "version": 3
   },
   "file_extension": ".py",
   "mimetype": "text/x-python",
   "name": "python",
   "nbconvert_exporter": "python",
   "pygments_lexer": "ipython3",
   "version": "3.11.5"
  }
 },
 "nbformat": 4,
 "nbformat_minor": 5
}
